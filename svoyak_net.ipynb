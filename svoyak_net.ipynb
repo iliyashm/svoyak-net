{
  "nbformat": 4,
  "nbformat_minor": 0,
  "metadata": {
    "colab": {
      "name": "svoyak-net.ipynb",
      "provenance": [],
      "include_colab_link": true
    },
    "kernelspec": {
      "name": "python3",
      "display_name": "Python 3"
    },
    "language_info": {
      "name": "python"
    }
  },
  "cells": [
    {
      "cell_type": "markdown",
      "metadata": {
        "id": "view-in-github",
        "colab_type": "text"
      },
      "source": [
        "<a href=\"https://colab.research.google.com/github/iliyashm/svoyak-net/blob/ilya/svoyak_net.ipynb\" target=\"_parent\"><img src=\"https://colab.research.google.com/assets/colab-badge.svg\" alt=\"Open In Colab\"/></a>"
      ]
    },
    {
      "cell_type": "code",
      "execution_count": 1,
      "metadata": {
        "id": "Hf5dszbvUP-8",
        "outputId": "54bea27a-2b47-4f3f-91eb-a4fc740ded0c",
        "colab": {
          "base_uri": "https://localhost:8080/"
        }
      },
      "outputs": [
        {
          "output_type": "stream",
          "name": "stdout",
          "text": [
            "Collecting transformers\n",
            "  Downloading transformers-4.16.2-py3-none-any.whl (3.5 MB)\n",
            "\u001b[K     |████████████████████████████████| 3.5 MB 8.4 MB/s \n",
            "\u001b[?25hCollecting pyyaml>=5.1\n",
            "  Downloading PyYAML-6.0-cp37-cp37m-manylinux_2_5_x86_64.manylinux1_x86_64.manylinux_2_12_x86_64.manylinux2010_x86_64.whl (596 kB)\n",
            "\u001b[K     |████████████████████████████████| 596 kB 44.8 MB/s \n",
            "\u001b[?25hRequirement already satisfied: packaging>=20.0 in /usr/local/lib/python3.7/dist-packages (from transformers) (21.3)\n",
            "Requirement already satisfied: requests in /usr/local/lib/python3.7/dist-packages (from transformers) (2.23.0)\n",
            "Requirement already satisfied: numpy>=1.17 in /usr/local/lib/python3.7/dist-packages (from transformers) (1.21.5)\n",
            "Collecting sacremoses\n",
            "  Downloading sacremoses-0.0.47-py2.py3-none-any.whl (895 kB)\n",
            "\u001b[K     |████████████████████████████████| 895 kB 17.3 MB/s \n",
            "\u001b[?25hCollecting huggingface-hub<1.0,>=0.1.0\n",
            "  Downloading huggingface_hub-0.4.0-py3-none-any.whl (67 kB)\n",
            "\u001b[K     |████████████████████████████████| 67 kB 3.1 MB/s \n",
            "\u001b[?25hRequirement already satisfied: filelock in /usr/local/lib/python3.7/dist-packages (from transformers) (3.6.0)\n",
            "Requirement already satisfied: regex!=2019.12.17 in /usr/local/lib/python3.7/dist-packages (from transformers) (2019.12.20)\n",
            "Collecting tokenizers!=0.11.3,>=0.10.1\n",
            "  Downloading tokenizers-0.11.6-cp37-cp37m-manylinux_2_12_x86_64.manylinux2010_x86_64.whl (6.5 MB)\n",
            "\u001b[K     |████████████████████████████████| 6.5 MB 10.9 MB/s \n",
            "\u001b[?25hRequirement already satisfied: tqdm>=4.27 in /usr/local/lib/python3.7/dist-packages (from transformers) (4.62.3)\n",
            "Requirement already satisfied: importlib-metadata in /usr/local/lib/python3.7/dist-packages (from transformers) (4.11.1)\n",
            "Requirement already satisfied: typing-extensions>=3.7.4.3 in /usr/local/lib/python3.7/dist-packages (from huggingface-hub<1.0,>=0.1.0->transformers) (3.10.0.2)\n",
            "Requirement already satisfied: pyparsing!=3.0.5,>=2.0.2 in /usr/local/lib/python3.7/dist-packages (from packaging>=20.0->transformers) (3.0.7)\n",
            "Requirement already satisfied: zipp>=0.5 in /usr/local/lib/python3.7/dist-packages (from importlib-metadata->transformers) (3.7.0)\n",
            "Requirement already satisfied: certifi>=2017.4.17 in /usr/local/lib/python3.7/dist-packages (from requests->transformers) (2021.10.8)\n",
            "Requirement already satisfied: urllib3!=1.25.0,!=1.25.1,<1.26,>=1.21.1 in /usr/local/lib/python3.7/dist-packages (from requests->transformers) (1.24.3)\n",
            "Requirement already satisfied: chardet<4,>=3.0.2 in /usr/local/lib/python3.7/dist-packages (from requests->transformers) (3.0.4)\n",
            "Requirement already satisfied: idna<3,>=2.5 in /usr/local/lib/python3.7/dist-packages (from requests->transformers) (2.10)\n",
            "Requirement already satisfied: joblib in /usr/local/lib/python3.7/dist-packages (from sacremoses->transformers) (1.1.0)\n",
            "Requirement already satisfied: six in /usr/local/lib/python3.7/dist-packages (from sacremoses->transformers) (1.15.0)\n",
            "Requirement already satisfied: click in /usr/local/lib/python3.7/dist-packages (from sacremoses->transformers) (7.1.2)\n",
            "Installing collected packages: pyyaml, tokenizers, sacremoses, huggingface-hub, transformers\n",
            "  Attempting uninstall: pyyaml\n",
            "    Found existing installation: PyYAML 3.13\n",
            "    Uninstalling PyYAML-3.13:\n",
            "      Successfully uninstalled PyYAML-3.13\n",
            "Successfully installed huggingface-hub-0.4.0 pyyaml-6.0 sacremoses-0.0.47 tokenizers-0.11.6 transformers-4.16.2\n"
          ]
        }
      ],
      "source": [
        "!pip install transformers"
      ]
    },
    {
      "cell_type": "code",
      "source": [
        "import re\n",
        "\n",
        "from torch.utils.data import Dataset, DataLoader, RandomSampler\n",
        "from tqdm.auto import tqdm\n",
        "from transformers import GPT2Tokenizer, GPT2LMHeadModel, AdamW, get_linear_schedule_with_warmup\n",
        "\n",
        "import torch\n",
        "import numpy as np\n",
        "import pandas as pd\n",
        "\n",
        "tqdm.pandas()"
      ],
      "metadata": {
        "id": "pd0rsE9brbCg"
      },
      "execution_count": 2,
      "outputs": []
    },
    {
      "cell_type": "code",
      "source": [
        "def choose_from_top(probs, n=5):\n",
        "    \"\"\"\n",
        "    Randomly(from the given probability distribution) choose the next word from the top n words.\n",
        "    \"\"\"\n",
        "    ind = np.argpartition(probs, -n)[-n:]\n",
        "    top_prob = probs[ind]\n",
        "    top_prob = top_prob / np.sum(top_prob) # Normalize\n",
        "    choice = np.random.choice(n, 1, p = top_prob)\n",
        "    token_id = ind[choice][0]\n",
        "    return int(token_id)\n",
        "\n",
        "\n",
        "def generate_some_text(input_str, max_len=1024):\n",
        "    \"\"\"\n",
        "    Make GPT-2 continue input_str with text up to text_len long.\n",
        "    If model returns <EOS>-token, generation stops.\n",
        "    With min_len one can set a desired minimal length of generated text, but the limit is not hard.\n",
        "    If model persists, text may come out shorter.\n",
        "    \"\"\"\n",
        "\n",
        "    cur_ids = torch.tensor(tokenizer.encode(input_str)).unsqueeze(0).long().to(\"cuda\")\n",
        "\n",
        "    model.eval()\n",
        "    with torch.no_grad():\n",
        "\n",
        "        for i in range(max_len - len(cur_ids)):\n",
        "            outputs = model(cur_ids, labels=cur_ids)\n",
        "            loss, logits = outputs[:2]\n",
        "            softmax_logits = torch.softmax(logits[0,-1], dim=0) #Take the first(only one) batch and the last predicted embedding\n",
        "            next_token_id = choose_from_top(softmax_logits.to('cpu').numpy(), n=20) # Choose next word\n",
        "            if next_token_id == 2:\n",
        "                break    # Stop generation\n",
        "            cur_ids = torch.cat([cur_ids, torch.ones((1,1)).long().to(\"cuda\") * next_token_id], dim = 1) # Add the last word\n",
        "\n",
        "        output_list = list(cur_ids.squeeze().to('cpu').numpy())\n",
        "        output_text = tokenizer.decode(output_list)\n",
        "        return output_text"
      ],
      "metadata": {
        "id": "uP1QPKX7rgiW"
      },
      "execution_count": 3,
      "outputs": []
    },
    {
      "cell_type": "code",
      "source": [
        "tokenizer = GPT2Tokenizer.from_pretrained(\"sberbank-ai/rugpt3medium_based_on_gpt2\")\n",
        "model = GPT2LMHeadModel.from_pretrained(\"sberbank-ai/rugpt3medium_based_on_gpt2\").cuda()"
      ],
      "metadata": {
        "id": "zv2tKy1ArjWz"
      },
      "execution_count": null,
      "outputs": []
    },
    {
      "cell_type": "code",
      "source": [
        "examples = [\n",
        "    \"Шли нахуй тех, кто тебя кидал, останься с теми кто с тобой страдал.\",\n",
        "    \"У каждого человека бывает такой период в жизни, когда ему кажется, что он никому не нужен.\",\n",
        "    \"Живи, братуха, и не думай, что кто-то про тебя забыл. Друзья не забывают друга, а кто забыл, тот не был им.\",\n",
        "    \"Сука, если я терплю, не означает, что мне не больно.\",\n",
        "    \"Может и не получится , но попробовать стоит всегда\",\n",
        "    \"Красивая — это когда красивая, а не когда грудь вываливается и трусы видно\",\n",
        "    \"Слушай всех, прислушивайся к немногим, решай сам.\",\n",
        "    \"Не нужно косить, под гламурных куриц, парни любят нежных, парни любят умниц\",\n",
        "    \"Иметь хороших друзей - одна из лучших ценностей жизни..\",\n",
        "    \"Будь самим собой, имей свою точку зрения, умей постоять за себя и за своих близких и тебя будут уважать!\",\n",
        "    \"Живите так, что бы дома гордились, девушки любили, пацаны ценили.\"\n",
        "]"
      ],
      "metadata": {
        "id": "ueuMy3t4rl5Z"
      },
      "execution_count": null,
      "outputs": []
    },
    {
      "cell_type": "code",
      "source": [
        "class GPTDataset(Dataset):\n",
        "    def __init__(self, examples):\n",
        "        data = [\"ITEM: \" + example for example in examples]\n",
        "        self.examples = list(map(tokenizer.encode, data))\n",
        "\n",
        "    def __len__(self):\n",
        "        return len(self.examples)\n",
        "\n",
        "    def __getitem__(self, item):\n",
        "        return torch.tensor(self.examples[item] + [2])"
      ],
      "metadata": {
        "id": "i26JRjNwrpfi"
      },
      "execution_count": null,
      "outputs": []
    },
    {
      "cell_type": "code",
      "source": [
        "EPOCHS = 2\n",
        "LEARNING_RATE = 1e-3\n",
        "WARMUP_STEPS = 0"
      ],
      "metadata": {
        "id": "wYWXWigXrsNW"
      },
      "execution_count": null,
      "outputs": []
    },
    {
      "cell_type": "code",
      "source": [
        "dataset = GPTDataset(examples)\n",
        "sampler = RandomSampler(dataset)\n",
        "synopsis_loader = DataLoader(dataset, sampler=sampler)"
      ],
      "metadata": {
        "id": "XkMG1_uKruPa"
      },
      "execution_count": null,
      "outputs": []
    },
    {
      "cell_type": "code",
      "source": [
        "model.train()\n",
        "optimizer = AdamW(model.parameters(), lr=LEARNING_RATE)\n",
        "scheduler = get_linear_schedule_with_warmup(optimizer, num_warmup_steps=WARMUP_STEPS,\n",
        "                                            num_training_steps=EPOCHS*len(dataset))\n",
        "\n",
        "proc_seq_count = 0\n",
        "batch_count = 0\n",
        "\n",
        "for epoch in range(EPOCHS):\n",
        "\n",
        "    sum_loss = []\n",
        "\n",
        "    \n",
        "    t = tqdm(enumerate(synopsis_loader), total=len(dataset), desc=f\"Epoch {epoch}, loss: \")\n",
        "    for idx, batch in t:\n",
        "\n",
        "        model.train()\n",
        "\n",
        "        batch = batch.to(\"cuda\")\n",
        "        outputs = model(batch, labels=batch)\n",
        "\n",
        "        loss = outputs[0]\n",
        "        loss.backward()\n",
        "        sum_loss.append(loss.item())\n",
        "\n",
        "        del outputs, loss, batch\n",
        "        torch.cuda.empty_cache()\n",
        "\n",
        "        torch.nn.utils.clip_grad_norm_(model.parameters(), 1.0)\n",
        "        optimizer.step()\n",
        "        scheduler.step()\n",
        "        model.zero_grad()\n",
        "\n",
        "        t.set_description(f\"Epoch {epoch}, loss: {np.mean(sum_loss) :.2}\")"
      ],
      "metadata": {
        "id": "j7lrbnwnrwKi"
      },
      "execution_count": null,
      "outputs": []
    },
    {
      "cell_type": "code",
      "source": [
        "for i in range(10):\n",
        "    print(generate_some_text(\"ITEM: \"))"
      ],
      "metadata": {
        "id": "UfNMTfo7ryfT"
      },
      "execution_count": null,
      "outputs": []
    },
    {
      "cell_type": "code",
      "source": [
        ""
      ],
      "metadata": {
        "id": "GQLoFkior0nc"
      },
      "execution_count": null,
      "outputs": []
    }
  ]
}